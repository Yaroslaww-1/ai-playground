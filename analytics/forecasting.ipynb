{
 "cells": [
  {
   "cell_type": "code",
   "execution_count": 251,
   "outputs": [],
   "source": [
    "import pandas as pd\n",
    "\n",
    "df = pd.read_csv('../game/output.csv', usecols=['win', 'time', 'points', 'enemy_algorithm'])"
   ],
   "metadata": {
    "collapsed": false,
    "pycharm": {
     "name": "#%%\n"
    }
   }
  },
  {
   "cell_type": "code",
   "execution_count": 252,
   "outputs": [],
   "source": [
    "features = ['win', 'time']\n",
    "target = 'points'\n",
    "sample_df = df[-5:]\n",
    "df = df[:-5]\n",
    "x = df[features]\n",
    "y = df[target]\n",
    "\n",
    "win_df = df[df.win == True]\n",
    "lose_df = df[df.win == False]"
   ],
   "metadata": {
    "collapsed": false,
    "pycharm": {
     "name": "#%%\n"
    }
   }
  },
  {
   "cell_type": "code",
   "execution_count": 253,
   "outputs": [
    {
     "data": {
      "text/plain": "<Figure size 576x576 with 1 Axes>",
      "image/png": "[encoded data removed]"
     },
     "metadata": {
      "needs_background": "light"
     },
     "output_type": "display_data"
    }
   ],
   "source": [
    "import matplotlib.pyplot as plt\n",
    "\n",
    "fig = plt.figure(figsize = (8, 8))\n",
    "win_sc = plt.scatter(win_df['time'], win_df['points'], s=10, color=\"green\")\n",
    "lose_sc = plt.scatter(lose_df['time'], lose_df['points'], s=10, color=\"red\")"
   ],
   "metadata": {
    "collapsed": false,
    "pycharm": {
     "name": "#%%\n"
    }
   }
  },
  {
   "cell_type": "code",
   "execution_count": 254,
   "outputs": [
    {
     "data": {
      "text/plain": "LinearRegression()"
     },
     "execution_count": 254,
     "metadata": {},
     "output_type": "execute_result"
    }
   ],
   "source": [
    "from sklearn import linear_model\n",
    "\n",
    "regression = linear_model.LinearRegression()\n",
    "\n",
    "regression.fit(df[features], df[target])"
   ],
   "metadata": {
    "collapsed": false,
    "pycharm": {
     "name": "#%%\n"
    }
   }
  },
  {
   "cell_type": "code",
   "execution_count": 255,
   "outputs": [
    {
     "data": {
      "text/plain": "[<matplotlib.lines.Line2D at 0x17da87b92b0>]"
     },
     "execution_count": 255,
     "metadata": {},
     "output_type": "execute_result"
    },
    {
     "data": {
      "text/plain": "<Figure size 576x576 with 1 Axes>",
      "image/png": "[encoded data removed]"
     },
     "metadata": {
      "needs_background": "light"
     },
     "output_type": "display_data"
    }
   ],
   "source": [
    "fig = plt.figure(figsize = (8, 8))\n",
    "win_sc = plt.scatter(win_df['time'], win_df['points'], s=10, color=\"green\")\n",
    "lose_sc = plt.scatter(lose_df['time'], lose_df['points'], s=10, color=\"red\")\n",
    "plt.plot(win_df['time'], regression.predict(win_df[features]), color=\"green\")\n",
    "plt.plot(lose_df['time'], regression.predict(lose_df[features]), color=\"red\")"
   ],
   "metadata": {
    "collapsed": false,
    "pycharm": {
     "name": "#%%\n"
    }
   }
  },
  {
   "cell_type": "code",
   "execution_count": 256,
   "outputs": [],
   "source": [
    "predict_table = pd.DataFrame(columns=['win', 'time', 'actual_points', 'predicted_points'])\n",
    "predict_table.win = sample_df.win\n",
    "predict_table.time = sample_df.time\n",
    "predict_table.actual_points = sample_df.points\n",
    "predict_table.predicted_points = regression.predict(sample_df[features])"
   ],
   "metadata": {
    "collapsed": false,
    "pycharm": {
     "name": "#%%\n"
    }
   }
  },
  {
   "cell_type": "code",
   "execution_count": 257,
   "outputs": [
    {
     "data": {
      "text/plain": "      win       time  actual_points  predicted_points\n95   True  29.689670             40         39.473531\n96  False  19.530325             12         14.321915\n97  False  15.058327              9         14.076901\n98   True  16.820545             41         38.768450\n99  False  15.680037              7         14.110963",
      "text/html": "<div>\n<style scoped>\n    .dataframe tbody tr th:only-of-type {\n        vertical-align: middle;\n    }\n\n    .dataframe tbody tr th {\n        vertical-align: top;\n    }\n\n    .dataframe thead th {\n        text-align: right;\n    }\n</style>\n<table border=\"1\" class=\"dataframe\">\n  <thead>\n    <tr style=\"text-align: right;\">\n      <th></th>\n      <th>win</th>\n      <th>time</th>\n      <th>actual_points</th>\n      <th>predicted_points</th>\n    </tr>\n  </thead>\n  <tbody>\n    <tr>\n      <th>95</th>\n      <td>True</td>\n      <td>29.689670</td>\n      <td>40</td>\n      <td>39.473531</td>\n    </tr>\n    <tr>\n      <th>96</th>\n      <td>False</td>\n      <td>19.530325</td>\n      <td>12</td>\n      <td>14.321915</td>\n    </tr>\n    <tr>\n      <th>97</th>\n      <td>False</td>\n      <td>15.058327</td>\n      <td>9</td>\n      <td>14.076901</td>\n    </tr>\n    <tr>\n      <th>98</th>\n      <td>True</td>\n      <td>16.820545</td>\n      <td>41</td>\n      <td>38.768450</td>\n    </tr>\n    <tr>\n      <th>99</th>\n      <td>False</td>\n      <td>15.680037</td>\n      <td>7</td>\n      <td>14.110963</td>\n    </tr>\n  </tbody>\n</table>\n</div>"
     },
     "execution_count": 257,
     "metadata": {},
     "output_type": "execute_result"
    }
   ],
   "source": [
    "predict_table"
   ],
   "metadata": {
    "collapsed": false,
    "pycharm": {
     "name": "#%%\n"
    }
   }
  }
 ],
 "metadata": {
  "kernelspec": {
   "display_name": "Python 3",
   "language": "python",
   "name": "python3"
  },
  "language_info": {
   "codemirror_mode": {
    "name": "ipython",
    "version": 2
   },
   "file_extension": ".py",
   "mimetype": "text/x-python",
   "name": "python",
   "nbconvert_exporter": "python",
   "pygments_lexer": "ipython2",
   "version": "2.7.6"
  }
 },
 "nbformat": 4,
 "nbformat_minor": 0
}